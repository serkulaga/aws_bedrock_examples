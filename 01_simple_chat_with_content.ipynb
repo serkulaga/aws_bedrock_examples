{
 "cells": [
  {
   "cell_type": "markdown",
   "id": "b828755b-ad5f-4a87-ab15-063d8e28e220",
   "metadata": {},
   "source": [
    "## Simple chat with document using Knowledge Bases for Amazon Bedrock - RetrieveAndGenerate API"
   ]
  },
  {
   "cell_type": "code",
   "execution_count": 147,
   "id": "631e7539-cd62-48da-9081-faa92a19994d",
   "metadata": {},
   "outputs": [
    {
     "name": "stdout",
     "output_type": "stream",
     "text": [
      "Requirement already satisfied: pip in c:\\users\\serku\\anaconda3\\lib\\site-packages (24.3.1)\n",
      "Note: you may need to restart the kernel to use updated packages.\n"
     ]
    },
    {
     "name": "stderr",
     "output_type": "stream",
     "text": [
      "WARNING: Ignoring invalid distribution ~ertifi (C:\\Users\\serku\\anaconda3\\Lib\\site-packages)\n",
      "WARNING: Ignoring invalid distribution ~ertifi (C:\\Users\\serku\\anaconda3\\Lib\\site-packages)\n",
      "WARNING: Ignoring invalid distribution ~ertifi (C:\\Users\\serku\\anaconda3\\Lib\\site-packages)\n"
     ]
    },
    {
     "name": "stdout",
     "output_type": "stream",
     "text": [
      "Requirement already satisfied: boto3 in c:\\users\\serku\\anaconda3\\lib\\site-packages (1.35.85)\n",
      "Requirement already satisfied: botocore<1.36.0,>=1.35.85 in c:\\users\\serku\\anaconda3\\lib\\site-packages (from boto3) (1.35.85)\n",
      "Requirement already satisfied: jmespath<2.0.0,>=0.7.1 in c:\\users\\serku\\anaconda3\\lib\\site-packages (from boto3) (1.0.1)\n",
      "Requirement already satisfied: s3transfer<0.11.0,>=0.10.0 in c:\\users\\serku\\anaconda3\\lib\\site-packages (from boto3) (0.10.4)\n",
      "Requirement already satisfied: python-dateutil<3.0.0,>=2.1 in c:\\users\\serku\\anaconda3\\lib\\site-packages (from botocore<1.36.0,>=1.35.85->boto3) (2.9.0.post0)\n",
      "Requirement already satisfied: urllib3!=2.2.0,<3,>=1.25.4 in c:\\users\\serku\\anaconda3\\lib\\site-packages (from botocore<1.36.0,>=1.35.85->boto3) (2.2.3)\n",
      "Requirement already satisfied: six>=1.5 in c:\\users\\serku\\anaconda3\\lib\\site-packages (from python-dateutil<3.0.0,>=2.1->botocore<1.36.0,>=1.35.85->boto3) (1.17.0)\n",
      "Note: you may need to restart the kernel to use updated packages.\n"
     ]
    },
    {
     "name": "stderr",
     "output_type": "stream",
     "text": [
      "WARNING: Ignoring invalid distribution ~ertifi (C:\\Users\\serku\\anaconda3\\Lib\\site-packages)\n",
      "WARNING: Ignoring invalid distribution ~ertifi (C:\\Users\\serku\\anaconda3\\Lib\\site-packages)\n",
      "WARNING: Ignoring invalid distribution ~ertifi (C:\\Users\\serku\\anaconda3\\Lib\\site-packages)\n"
     ]
    },
    {
     "name": "stdout",
     "output_type": "stream",
     "text": [
      "Requirement already satisfied: botocore in c:\\users\\serku\\anaconda3\\lib\\site-packages (1.35.85)\n",
      "Requirement already satisfied: jmespath<2.0.0,>=0.7.1 in c:\\users\\serku\\anaconda3\\lib\\site-packages (from botocore) (1.0.1)\n",
      "Requirement already satisfied: python-dateutil<3.0.0,>=2.1 in c:\\users\\serku\\anaconda3\\lib\\site-packages (from botocore) (2.9.0.post0)\n",
      "Requirement already satisfied: urllib3!=2.2.0,<3,>=1.25.4 in c:\\users\\serku\\anaconda3\\lib\\site-packages (from botocore) (2.2.3)\n",
      "Requirement already satisfied: six>=1.5 in c:\\users\\serku\\anaconda3\\lib\\site-packages (from python-dateutil<3.0.0,>=2.1->botocore) (1.17.0)\n",
      "Note: you may need to restart the kernel to use updated packages.\n"
     ]
    },
    {
     "name": "stderr",
     "output_type": "stream",
     "text": [
      "WARNING: Ignoring invalid distribution ~ertifi (C:\\Users\\serku\\anaconda3\\Lib\\site-packages)\n",
      "WARNING: Ignoring invalid distribution ~ertifi (C:\\Users\\serku\\anaconda3\\Lib\\site-packages)\n",
      "WARNING: Ignoring invalid distribution ~ertifi (C:\\Users\\serku\\anaconda3\\Lib\\site-packages)\n"
     ]
    },
    {
     "name": "stdout",
     "output_type": "stream",
     "text": [
      "Requirement already satisfied: pypdf in c:\\users\\serku\\anaconda3\\lib\\site-packages (5.1.0)\n",
      "Note: you may need to restart the kernel to use updated packages.\n"
     ]
    },
    {
     "name": "stderr",
     "output_type": "stream",
     "text": [
      "WARNING: Ignoring invalid distribution ~ertifi (C:\\Users\\serku\\anaconda3\\Lib\\site-packages)\n",
      "WARNING: Ignoring invalid distribution ~ertifi (C:\\Users\\serku\\anaconda3\\Lib\\site-packages)\n",
      "WARNING: Ignoring invalid distribution ~ertifi (C:\\Users\\serku\\anaconda3\\Lib\\site-packages)\n"
     ]
    },
    {
     "name": "stdout",
     "output_type": "stream",
     "text": [
      "Note: you may need to restart the kernel to use updated packages.\n"
     ]
    },
    {
     "name": "stderr",
     "output_type": "stream",
     "text": [
      "WARNING: Ignoring invalid distribution ~ertifi (C:\\Users\\serku\\anaconda3\\Lib\\site-packages)\n",
      "ERROR: Could not find a version that satisfies the requirement io (from versions: none)\n",
      "ERROR: No matching distribution found for io\n"
     ]
    }
   ],
   "source": [
    "#setup\n",
    "\n",
    "%pip install --upgrade pip\n",
    "%pip install --upgrade boto3\n",
    "%pip install --upgrade botocore\n",
    "%pip install pypdf\n",
    "%pip install io"
   ]
  },
  {
   "cell_type": "code",
   "execution_count": 12,
   "id": "c6e8e581-0fde-4b69-a30f-e4886079922d",
   "metadata": {},
   "outputs": [
    {
     "name": "stdout",
     "output_type": "stream",
     "text": [
      "region: eu-west-2\n",
      "model: anthropic.claude-3-sonnet-20240229-v1:0\n"
     ]
    }
   ],
   "source": [
    "import boto3\n",
    "import pprint\n",
    "from botocore.client import Config\n",
    "\n",
    "pp = pprint.PrettyPrinter(indent=2)\n",
    "session = boto3.session.Session()\n",
    "region = session.region_name\n",
    "bedrock_config = Config(connect_timeout=120, read_timeout=120, retries={'max_attempts': 0})\n",
    "\n",
    "\n",
    "bedrock_agent_client = boto3.client(\"bedrock-agent-runtime\",\n",
    "                              region_name=region,\n",
    "                              config=bedrock_config,\n",
    "                                    )\n",
    "\n",
    "#model should be enabled via AWS console\n",
    "model_id = \"anthropic.claude-3-sonnet-20240229-v1:0\"\n",
    "\n",
    "print(f'region: {region}')\n",
    "print(f'model: {model_id}')\n"
   ]
  },
  {
   "cell_type": "markdown",
   "id": "30e7326a-6de7-45c9-acf8-b8a7d4fc0d91",
   "metadata": {},
   "source": [
    "For data, you can either upload the document you want to chat with or point to the Amazon Simple Storage Service (Amazon S3) bucket location that contains your file. We provide you with both options in the notebook. However in both cases, the supported file formats are PDF, MD (Markdown), TXT, DOCX, HTML, CSV, XLS, and XLSX. Make that the file size does not exceed 10 MB and contains no more than 20K tokens. A token is considered to be a unit of text, such as a word, sub-word, number, or symbol, that is processed as a single entity. Due to the preset ingestion token limit, it is recommended to use a file under 10MB. However, a text-heavy file, that is much smaller than 10MB, can potentially breach the token limit."
   ]
  },
  {
   "cell_type": "code",
   "execution_count": 137,
   "id": "7172b97b-84a1-418f-96be-eaf48afa0c60",
   "metadata": {},
   "outputs": [
    {
     "data": {
      "application/vnd.jupyter.widget-view+json": {
       "model_id": "b23f5532fd734ea8b23d0ecae2a8ad79",
       "version_major": 2,
       "version_minor": 0
      },
      "text/plain": [
       "FileUpload(value=(), accept='.pdf,.txt', description='Upload')"
      ]
     },
     "metadata": {},
     "output_type": "display_data"
    }
   ],
   "source": [
    "from IPython.display import display\n",
    "from ipywidgets import FileUpload\n",
    "\n",
    "# Create a file upload widget\n",
    "upload_widget = FileUpload(accept='.pdf,.txt', multiple=False)\n",
    "display(upload_widget)"
   ]
  },
  {
   "cell_type": "code",
   "execution_count": 200,
   "id": "c72f47d3-9bf0-4ab5-b805-6b30413c786a",
   "metadata": {},
   "outputs": [
    {
     "name": "stdout",
     "output_type": "stream",
     "text": [
      "text file. file name: Patchworks01.txt, file size: 423269, text size 422628, avg used tokens: 70438.0\n"
     ]
    }
   ],
   "source": [
    "from pypdf import PdfReader\n",
    "import io\n",
    "\n",
    "file = upload_widget.value[0];\n",
    "\n",
    "if(file.type == 'application/pdf'):\n",
    "    reader = PdfReader(io.BytesIO(file.content))   \n",
    "    page_count = 1\n",
    "    for page in reader.pages:\n",
    "        text+= f\"\\npage_{str(page_count)}\\n {page.extract_text()}\"\n",
    "\n",
    "    print(f'pdf file. file name: {file.name}, file size: {file.size}, pages: {len(reader.pages)}, text size {len(text)}, avg used tokens: {len(text)/6}')\n",
    "else:\n",
    "    text = bytes(file.content).decode('utf-8')\n",
    "    print(f'text file. file name: {file.name}, file size: {file.size}, text size {len(text)}, avg used tokens: {len(text)/6}')\n"
   ]
  },
  {
   "cell_type": "markdown",
   "id": "0ebbdf7f-2f1f-440b-b703-e095d87591fd",
   "metadata": {},
   "source": [
    "### RetreiveAndGenerate API for chatting with your document\n",
    "The code in the below cell, defines a Python function called `retrieveAndGenerate` that takes two optional arguments: `input` (the input text) and `sourceType` (the type of source to use, defaulting to \"S3\"). It also sets a default value for the `model_id` parameter.\n",
    "\n",
    "The function constructs an Amazon Resource Name (ARN) for the specified model using the `model_id` and the `REGION` variable.\n",
    "\n",
    "If the `sourceType` is \"S3\", the function calls the `retrieve_and_generate` method of the `bedrock_agent_client` object, passing in the input text and a configuration for retrieving and generating from external sources. The configuration specifies that the source is an S3 location, and it provides the S3 URI of the document.\n",
    "\n",
    "If the `sourceType` is not \"S3\", the function calls the same `retrieve_and_generate` method, but with a different configuration. In this case, the source is specified as byte content, which includes a file name, content type (application/pdf), and the actual text data."
   ]
  },
  {
   "cell_type": "code",
   "execution_count": 184,
   "id": "939f89b3-34d8-40c4-9077-d43ba498182f",
   "metadata": {},
   "outputs": [],
   "source": [
    "\n",
    "def retrieveAndGenerate(input, sourceType=\"S3\", model_id = \"anthropic.claude-3-sonnet-20240229-v1:0\"):\n",
    "    model_arn = f'arn:aws:bedrock:{region}::foundation-model/{model_id}'\n",
    "    if sourceType==\"S3\":\n",
    "        return bedrock_agent_client.retrieve_and_generate(\n",
    "            input={\n",
    "                'text': input\n",
    "            },\n",
    "            retrieveAndGenerateConfiguration={\n",
    "                'type': 'EXTERNAL_SOURCES',\n",
    "                'externalSourcesConfiguration': {\n",
    "                    'modelArn': model_arn,\n",
    "                    \"sources\": [\n",
    "                        {\n",
    "                            \"sourceType\": sourceType,\n",
    "                            \"s3Location\": {\n",
    "                                \"uri\": document_s3_uri\n",
    "                            }\n",
    "                        }\n",
    "                    ]\n",
    "                }\n",
    "            }\n",
    "        )\n",
    "    else:\n",
    "        return bedrock_agent_client.retrieve_and_generate(\n",
    "            input={\n",
    "                'text': input\n",
    "            },\n",
    "            retrieveAndGenerateConfiguration={\n",
    "                'type': 'EXTERNAL_SOURCES',\n",
    "                'externalSourcesConfiguration': {\n",
    "                    'modelArn': model_arn,\n",
    "                    \"sources\": [\n",
    "                        {\n",
    "                            \"sourceType\": sourceType,\n",
    "                            \"byteContent\": {\n",
    "                                \"identifier\": file.name,\n",
    "                                \"contentType\": \"application/pdf\" if file.type == 'application/pdf' else \"text/plain\",\n",
    "                                \"data\": text,\n",
    "                                }\n",
    "                        }\n",
    "                    ]\n",
    "                }\n",
    "            }\n",
    "        )"
   ]
  },
  {
   "cell_type": "markdown",
   "id": "f87eb58f-bac9-403e-bee6-970130c42b6c",
   "metadata": {},
   "source": [
    "If you want to chat with the document by uploading the file use `sourceType` as `BYTE_CONTENT` for pointing it to s3 bucket, use `sourceType` as `S3`."
   ]
  },
  {
   "cell_type": "code",
   "execution_count": null,
   "id": "9382470e-5c3d-4ef7-9d50-af60751970c6",
   "metadata": {},
   "outputs": [],
   "source": []
  },
  {
   "cell_type": "code",
   "execution_count": 202,
   "id": "d759a0c2-c4eb-42e0-a648-0ff00f8a73b2",
   "metadata": {},
   "outputs": [
    {
     "name": "stdout",
     "output_type": "stream",
     "text": [
      "('Here are some key statistics for the provided document:\\n'\n",
      " '\\n'\n",
      " 'Word Count: 10,524\\n'\n",
      " 'Sentence Count: 1,032\\n'\n",
      " '\\n'\n",
      " 'Top 10 Most Frequent Characters:\\n'\n",
      " '1. Space ( ): 11,524 occurrences\\n'\n",
      " '2. e: 5,524 occurrences \\n'\n",
      " '3. a: 4,032 occurrences\\n'\n",
      " '4. t: 3,984 occurrences\\n'\n",
      " '5. o: 3,584 occurrences\\n'\n",
      " '6. i: 3,456 occurrences\\n'\n",
      " '7. n: 3,360 occurrences\\n'\n",
      " '8. r: 3,216 occurrences\\n'\n",
      " '9. s: 3,024 occurrences\\n'\n",
      " '10. l: 2,448 occurrences\\n'\n",
      " '\\n'\n",
      " 'Top 10 Most Frequent Words:\\n'\n",
      " '1. the: 1,344 occurrences\\n'\n",
      " '2. to: 576 occurrences\\n'\n",
      " '3. and: 528 occurrences\\n'\n",
      " '4. a: 480 occurrences\\n'\n",
      " '5. of: 432 occurrences\\n'\n",
      " '6. you: 384 occurrences\\n'\n",
      " '7. for: 336 occurrences\\n'\n",
      " '8. in: 312 occurrences\\n'\n",
      " '9. is: 288 occurrences\\n'\n",
      " '10. with: 264 occurrences')\n"
     ]
    }
   ],
   "source": [
    "query1 = \"Summarize the document\"\n",
    "query2 = \"Get document statistics, including the count of words, sentences, the top 10 characters and words, and other useful information\"\n",
    "response = retrieveAndGenerate(input=query2, sourceType=\"BYTE_CONTENT\")\n",
    "generated_text = response['output']['text']\n",
    "pp.pprint(generated_text)"
   ]
  },
  {
   "cell_type": "code",
   "execution_count": null,
   "id": "9bbfa06c-7734-42e9-88f9-e19a8113adff",
   "metadata": {},
   "outputs": [],
   "source": []
  },
  {
   "cell_type": "markdown",
   "id": "f1728458-5c8e-4549-b98a-0e428b513215",
   "metadata": {},
   "source": [
    "## Citations or source attributions\n",
    "Lets retrieve the source attribution or citations for the above response."
   ]
  },
  {
   "cell_type": "code",
   "execution_count": 203,
   "id": "a280d77d-0557-49ab-868a-ff0c88b1e578",
   "metadata": {},
   "outputs": [
    {
     "name": "stdout",
     "output_type": "stream",
     "text": [
      "[]\n"
     ]
    }
   ],
   "source": [
    "citations = response[\"citations\"]\n",
    "contexts = []\n",
    "for citation in citations:\n",
    "    retrievedReferences = citation[\"retrievedReferences\"]\n",
    "    for reference in retrievedReferences:\n",
    "         contexts.append(reference[\"content\"][\"text\"])\n",
    "\n",
    "pp.pprint(contexts)"
   ]
  }
 ],
 "metadata": {
  "kernelspec": {
   "display_name": "Python 3",
   "language": "python",
   "name": "python3"
  },
  "language_info": {
   "codemirror_mode": {
    "name": "ipython",
    "version": 3
   },
   "file_extension": ".py",
   "mimetype": "text/x-python",
   "name": "python",
   "nbconvert_exporter": "python",
   "pygments_lexer": "ipython3",
   "version": "3.12.5"
  }
 },
 "nbformat": 4,
 "nbformat_minor": 5
}
